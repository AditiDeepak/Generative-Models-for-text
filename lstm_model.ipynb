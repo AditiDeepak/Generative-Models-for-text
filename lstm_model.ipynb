{
 "cells": [
  {
   "cell_type": "markdown",
   "metadata": {},
   "source": [
    " Name: Aditi Hoskere Deepak\n",
    " \n",
    " USC ID: 6076494222\n",
    " \n",
    "                                        INF 552 HW7\n",
    "                                        \n",
    "                                         Problem 1"
   ]
  },
  {
   "cell_type": "code",
   "execution_count": 1,
   "metadata": {
    "colab": {
     "base_uri": "https://localhost:8080/",
     "height": 87
    },
    "colab_type": "code",
    "executionInfo": {
     "elapsed": 3656,
     "status": "ok",
     "timestamp": 1595632956911,
     "user": {
      "displayName": "Anuradha D",
      "photoUrl": "",
      "userId": "08863303090119644226"
     },
     "user_tz": 420
    },
    "id": "wJt3zFuHIeA1",
    "outputId": "d0e8842a-eb61-476e-dc50-7266b789cd7c"
   },
   "outputs": [
    {
     "name": "stderr",
     "output_type": "stream",
     "text": [
      "Using TensorFlow backend.\n",
      "/usr/local/lib/python3.6/dist-packages/statsmodels/tools/_testing.py:19: FutureWarning: pandas.util.testing is deprecated. Use the functions in the public API at pandas.testing instead.\n",
      "  import pandas.util.testing as tm\n"
     ]
    }
   ],
   "source": [
    "import os\n",
    "import random\n",
    "import sys\n",
    "\n",
    "import cv2\n",
    "import keras\n",
    "import matplotlib.pyplot as plt\n",
    "import numpy as np\n",
    "import pandas as pd\n",
    "import scipy as sp\n",
    "import seaborn as sns\n",
    "import tensorflow as tf\n",
    "import tqdm\n",
    "from keras import regularizers\n",
    "from keras.callbacks import ModelCheckpoint\n",
    "from keras.datasets import cifar10\n",
    "from keras.layers import (\n",
    "    Activation,\n",
    "    Conv2D,\n",
    "    Dense,\n",
    "    Dropout,\n",
    "    Flatten,\n",
    "    MaxPooling2D,\n",
    "    Reshape,\n",
    "    Softmax,\n",
    ")\n",
    "from keras.models import Sequential\n",
    "from keras.preprocessing.image import ImageDataGenerator\n",
    "from keras.utils import np_utils\n",
    "from scipy.spatial.distance import euclidean\n",
    "from sklearn.cluster import KMeans\n",
    "from sklearn.metrics import accuracy_score\n",
    "from sklearn.metrics.pairwise import euclidean_distances\n",
    "from sklearn.model_selection import train_test_split\n",
    "from sklearn.neighbors import DistanceMetric\n",
    "from sklearn.preprocessing import LabelEncoder, OneHotEncoder\n",
    "from tensorflow.python.client import device_lib\n",
    "\n"
   ]
  },
  {
   "cell_type": "code",
   "execution_count": 2,
   "metadata": {
    "colab": {
     "base_uri": "https://localhost:8080/",
     "height": 538
    },
    "colab_type": "code",
    "executionInfo": {
     "elapsed": 8815,
     "status": "ok",
     "timestamp": 1595632989915,
     "user": {
      "displayName": "Anuradha D",
      "photoUrl": "",
      "userId": "08863303090119644226"
     },
     "user_tz": 420
    },
    "id": "jliltXnhItRF",
    "outputId": "1dc7141c-4912-4333-ec6c-906629b58220"
   },
   "outputs": [
    {
     "name": "stdout",
     "output_type": "stream",
     "text": [
      "[name: \"/device:CPU:0\"\n",
      "device_type: \"CPU\"\n",
      "memory_limit: 268435456\n",
      "locality {\n",
      "}\n",
      "incarnation: 8413874220412450758\n",
      ", name: \"/device:XLA_CPU:0\"\n",
      "device_type: \"XLA_CPU\"\n",
      "memory_limit: 17179869184\n",
      "locality {\n",
      "}\n",
      "incarnation: 1063625630893394599\n",
      "physical_device_desc: \"device: XLA_CPU device\"\n",
      ", name: \"/device:XLA_GPU:0\"\n",
      "device_type: \"XLA_GPU\"\n",
      "memory_limit: 17179869184\n",
      "locality {\n",
      "}\n",
      "incarnation: 846040070640666993\n",
      "physical_device_desc: \"device: XLA_GPU device\"\n",
      ", name: \"/device:GPU:0\"\n",
      "device_type: \"GPU\"\n",
      "memory_limit: 5121520435\n",
      "locality {\n",
      "  bus_id: 1\n",
      "  links {\n",
      "  }\n",
      "}\n",
      "incarnation: 16653474451379792256\n",
      "physical_device_desc: \"device: 0, name: Tesla P100-PCIE-16GB, pci bus id: 0000:00:04.0, compute capability: 6.0\"\n",
      "]\n"
     ]
    }
   ],
   "source": [
    "config = tf.compat.v1.ConfigProto()\n",
    "config.gpu_options.per_process_gpu_memory_fraction = 0.3\n",
    "config.gpu_options.allow_growth = True\n",
    "config.gpu_options.visible_device_list = \"0\" #only the gpu 0 is allowed\n",
    "tf.compat.v1.keras.backend.set_session(tf.compat.v1.Session(config=config))\n",
    "print(device_lib.list_local_devices())"
   ]
  },
  {
   "cell_type": "markdown",
   "metadata": {
    "colab_type": "text",
    "id": "WyxaWPQ2KmrA"
   },
   "source": [
    "i). Concatenate your text files to create a corpus of Russell's writings."
   ]
  },
  {
   "cell_type": "code",
   "execution_count": 3,
   "metadata": {
    "colab": {},
    "colab_type": "code",
    "executionInfo": {
     "elapsed": 5724,
     "status": "ok",
     "timestamp": 1595633037619,
     "user": {
      "displayName": "Anuradha D",
      "photoUrl": "",
      "userId": "08863303090119644226"
     },
     "user_tz": 420
    },
    "id": "oL2xTJz9IyZz"
   },
   "outputs": [],
   "source": [
    "import os\n",
    "path=\"../Data\"\n",
    "final_file=open(\"../Data/new_output.txt\",'w')\n",
    "directory_list=os.listdir(path)\n",
    "for dir1 in directory_list:\n",
    "    filepath=path+\"/\"+dir1\n",
    "    with open(filepath,'r',encoding='ascii',errors='ignore') as new: \n",
    "        for line in new:\n",
    "            final_file.write(line)\n",
    "final_file.close()"
   ]
  },
  {
   "cell_type": "markdown",
   "metadata": {
    "colab_type": "text",
    "id": "_LMqdcPtKiKs"
   },
   "source": [
    "ii). Use a character-level representation for this model by using extended ASCII that has N = 256 characters. Each character will be encoded into a an integer using its ASCII code. Rescale the integers to the range [0; 1]"
   ]
  },
  {
   "cell_type": "code",
   "execution_count": 4,
   "metadata": {
    "colab": {
     "base_uri": "https://localhost:8080/",
     "height": 138
    },
    "colab_type": "code",
    "executionInfo": {
     "elapsed": 3280,
     "status": "ok",
     "timestamp": 1595633059630,
     "user": {
      "displayName": "Anuradha D",
      "photoUrl": "",
      "userId": "08863303090119644226"
     },
     "user_tz": 420
    },
    "id": "xSpDDtkwI-W0",
    "outputId": "51aace94-c93a-469a-c690-0b6622cced27"
   },
   "outputs": [
    {
     "name": "stdout",
     "output_type": "stream",
     "text": [
      "The values before scaling - \n",
      "{'3': 0, 'm': 1, 'd': 2, 'n': 3, '8': 4, '5': 5, 'g': 6, 'o': 7, 'u': 8, 't': 9, 'q': 10, '1': 11, 'a': 12, 'l': 13, 's': 14, 'e': 15, 'h': 16, '2': 17, '\\n': 18, 'f': 19, '0': 20, 'j': 21, '6': 22, 'w': 23, 'k': 24, 'y': 25, 'v': 26, 'b': 27, 'x': 28, 'i': 29, '9': 30, 'c': 31, '7': 32, 'r': 33, 'z': 34, 'p': 35, '4': 36, ' ': 37}\n",
      "The values after scaling - \n",
      "{'3': 0.0, 'm': 0.02702702702702703, 'd': 0.05405405405405406, 'n': 0.08108108108108109, '8': 0.10810810810810811, '5': 0.13513513513513514, 'g': 0.16216216216216217, 'o': 0.1891891891891892, 'u': 0.21621621621621623, 't': 0.24324324324324326, 'q': 0.2702702702702703, '1': 0.2972972972972973, 'a': 0.32432432432432434, 'l': 0.35135135135135137, 's': 0.3783783783783784, 'e': 0.40540540540540543, 'h': 0.43243243243243246, '2': 0.4594594594594595, '\\n': 0.4864864864864865, 'f': 0.5135135135135136, '0': 0.5405405405405406, 'j': 0.5675675675675675, '6': 0.5945945945945946, 'w': 0.6216216216216217, 'k': 0.6486486486486487, 'y': 0.6756756756756757, 'v': 0.7027027027027027, 'b': 0.7297297297297298, 'x': 0.7567567567567568, 'i': 0.7837837837837838, '9': 0.8108108108108109, 'c': 0.8378378378378379, '7': 0.8648648648648649, 'r': 0.8918918918918919, 'z': 0.918918918918919, 'p': 0.945945945945946, '4': 0.972972972972973, ' ': 1.0}\n",
      "BAck to character - \n",
      "{0: '3', 1: 'm', 2: 'd', 3: 'n', 4: '8', 5: '5', 6: 'g', 7: 'o', 8: 'u', 9: 't', 10: 'q', 11: '1', 12: 'a', 13: 'l', 14: 's', 15: 'e', 16: 'h', 17: '2', 18: '\\n', 19: 'f', 20: '0', 21: 'j', 22: '6', 23: 'w', 24: 'k', 25: 'y', 26: 'v', 27: 'b', 28: 'x', 29: 'i', 30: '9', 31: 'c', 32: '7', 33: 'r', 34: 'z', 35: 'p', 36: '4', 37: ' '}\n"
     ]
    }
   ],
   "source": [
    "corpus_path=\"../Data/new_output.txt\"\n",
    "from sklearn.preprocessing import MinMaxScaler\n",
    "import string\n",
    "dictionary={}\n",
    "value_list=[]\n",
    "scaled_dict={}\n",
    "char_dict={}\n",
    "char_list=[]\n",
    "a=set()\n",
    "count1=0\n",
    "punctuation=[\"|\",\"'\",\"/\",\"[\",\"+\",\"(\",\".\",\"&\",\"=\",'!',\"?\",\"{\",\"<\",\"-\",\"*\",\"%\",\"}\",\"_\",\"^\",\",\",\"#\",\"~\",\";\",\"$\",\">\",\":\",\")\",\"]\",'\"','\\\\']\n",
    "with open(corpus_path,'r') as f:\n",
    "    f=list(f)\n",
    "    for i in f:\n",
    "        for j in i:\n",
    "            j=j.lower()\n",
    "            if j in punctuation:\n",
    "                continue\n",
    "            else:\n",
    "                char_list.append(j)\n",
    "            a.add(j)\n",
    "            for l in a:\n",
    "                dictionary[l]=count1\n",
    "                count1+=1\n",
    "\n",
    "count=0\n",
    "for ke,va in dictionary.items():\n",
    "    char_dict[count]=ke\n",
    "    count+=1\n",
    "\n",
    "print(\"The values before scaling - \")\n",
    "print(dictionary)\n",
    "\n",
    "print(\"The values after scaling - \")\n",
    "scaler=MinMaxScaler()\n",
    "for key,value in dictionary.items():\n",
    "    value_list.append(value)\n",
    "scaler.fit(np.array(value_list).reshape(-1,1))\n",
    "\n",
    "\n",
    "for key,val in dictionary.items():\n",
    "    reshaped_array=np.array(val).reshape(1,-1)\n",
    "    val=scaler.transform(reshaped_array)\n",
    "    scaled_dict[key]=val[0][0]\n",
    "print(scaled_dict)\n",
    "\n",
    "print(\"BAck to character - \")\n",
    "print(char_dict)"
   ]
  },
  {
   "cell_type": "markdown",
   "metadata": {
    "colab_type": "text",
    "id": "zHuBNveQKgE4"
   },
   "source": [
    "iii). Choose a window size, e.g., W = 100.\n",
    "\n",
    "iv). Inputs to the network will be the first 99 characters of each sequence, and the output of the network will be the Wth character of the sequence."
   ]
  },
  {
   "cell_type": "code",
   "execution_count": 5,
   "metadata": {
    "colab": {},
    "colab_type": "code",
    "executionInfo": {
     "elapsed": 32150,
     "status": "ok",
     "timestamp": 1595633111447,
     "user": {
      "displayName": "Anuradha D",
      "photoUrl": "",
      "userId": "08863303090119644226"
     },
     "user_tz": 420
    },
    "id": "BQYqVr_RJFul"
   },
   "outputs": [],
   "source": [
    "#Choosing a window size of 100 and taking the first 99 as input and the 100th character as output\n",
    "#This is repeated for the entire length of the dataset\n",
    "\n",
    "size=len(char_list)-100\n",
    "window=100\n",
    "input_data=[]\n",
    "output_data=[]\n",
    "\n",
    "for i in range(0,size,1):\n",
    "    inputdata=char_list[i:window-1]\n",
    "    outputdata=char_list[window]\n",
    "    input_data.append([scaled_dict[j] for j in inputdata])\n",
    "    output_data.append(dictionary[outputdata])\n",
    "    window=window+1"
   ]
  },
  {
   "cell_type": "markdown",
   "metadata": {
    "colab_type": "text",
    "id": "WVWxH1_RKcHU"
   },
   "source": [
    "1c).\n",
    "\n",
    "v),vi),vii),viii)"
   ]
  },
  {
   "cell_type": "code",
   "execution_count": 6,
   "metadata": {
    "colab": {
     "base_uri": "https://localhost:8080/",
     "height": 67
    },
    "colab_type": "code",
    "executionInfo": {
     "elapsed": 3003,
     "status": "ok",
     "timestamp": 1595633115913,
     "user": {
      "displayName": "Anuradha D",
      "photoUrl": "",
      "userId": "08863303090119644226"
     },
     "user_tz": 420
    },
    "id": "iDoxAbqMJKEw",
    "outputId": "786cb811-cb53-4a09-a659-fec50124b03d"
   },
   "outputs": [
    {
     "name": "stdout",
     "output_type": "stream",
     "text": [
      "3065304\n",
      "3065304\n"
     ]
    },
    {
     "data": {
      "text/plain": [
       "(3065304, 38)"
      ]
     },
     "execution_count": 6,
     "metadata": {
      "tags": []
     },
     "output_type": "execute_result"
    }
   ],
   "source": [
    "print(len(input_data))\n",
    "print(len(output_data))\n",
    "output_data=keras.utils.to_categorical(output_data)\n",
    "output_data.shape"
   ]
  },
  {
   "cell_type": "code",
   "execution_count": 7,
   "metadata": {
    "colab": {
     "base_uri": "https://localhost:8080/",
     "height": 218
    },
    "colab_type": "code",
    "executionInfo": {
     "elapsed": 23429,
     "status": "ok",
     "timestamp": 1595633170596,
     "user": {
      "displayName": "Anuradha D",
      "photoUrl": "",
      "userId": "08863303090119644226"
     },
     "user_tz": 420
    },
    "id": "MQZkt3I4JOAt",
    "outputId": "eea878eb-f941-4766-a8ab-f400495a87eb"
   },
   "outputs": [
    {
     "name": "stdout",
     "output_type": "stream",
     "text": [
      "Model: \"sequential_1\"\n",
      "_________________________________________________________________\n",
      "Layer (type)                 Output Shape              Param #   \n",
      "=================================================================\n",
      "lstm_1 (LSTM)                (None, 256)               264192    \n",
      "_________________________________________________________________\n",
      "dense_1 (Dense)              (None, 38)                9766      \n",
      "=================================================================\n",
      "Total params: 273,958\n",
      "Trainable params: 273,958\n",
      "Non-trainable params: 0\n",
      "_________________________________________________________________\n"
     ]
    }
   ],
   "source": [
    "from keras.layers import LSTM\n",
    "num_classes=38\n",
    "data=np.reshape(input_data,(len(input_data),99,1))\n",
    "model=Sequential()\n",
    "model.add(LSTM(units=256,input_shape=(data.shape[1], data.shape[2])))\n",
    "model.add(Dense(num_classes,activation='softmax'))\n",
    "model.summary()"
   ]
  },
  {
   "cell_type": "code",
   "execution_count": 8,
   "metadata": {
    "colab": {},
    "colab_type": "code",
    "executionInfo": {
     "elapsed": 812,
     "status": "ok",
     "timestamp": 1595633176074,
     "user": {
      "displayName": "Anuradha D",
      "photoUrl": "",
      "userId": "08863303090119644226"
     },
     "user_tz": 420
    },
    "id": "_JbKtvyzJZgg"
   },
   "outputs": [],
   "source": [
    "from keras.optimizers import Adam\n",
    "learning_rate=0.0001\n",
    "opt=Adam(lr=learning_rate)\n",
    "model.compile(loss=\"categorical_crossentropy\",optimizer=opt,metrics=[\"accuracy\"])"
   ]
  },
  {
   "cell_type": "markdown",
   "metadata": {
    "colab_type": "text",
    "id": "8_yP0fajKUFF"
   },
   "source": [
    "x. Use model checkpointing to keep the network weights to determine each time an improvement in loss is observed at the end of the epoch. Find the best set of weights in terms of loss."
   ]
  },
  {
   "cell_type": "code",
   "execution_count": 10,
   "metadata": {
    "colab": {
     "base_uri": "https://localhost:8080/",
     "height": 235
    },
    "colab_type": "code",
    "executionInfo": {
     "elapsed": 5586830,
     "status": "ok",
     "timestamp": 1595638803020,
     "user": {
      "displayName": "Anuradha D",
      "photoUrl": "",
      "userId": "08863303090119644226"
     },
     "user_tz": 420
    },
    "id": "6Xwg-vBxJdwA",
    "outputId": "ef1c39e9-7512-40a6-e5da-946cbc2393d6"
   },
   "outputs": [
    {
     "name": "stdout",
     "output_type": "stream",
     "text": [
      "Epoch 1/6\n",
      "3065304/3065304 [==============================] - 920s 300us/step - loss: 2.8604 - accuracy: 0.1702\n",
      "Epoch 2/6\n",
      "3065304/3065304 [==============================] - 925s 302us/step - loss: 2.8326 - accuracy: 0.1751\n",
      "Epoch 3/6\n",
      "3065304/3065304 [==============================] - 919s 300us/step - loss: 2.8263 - accuracy: 0.1758\n",
      "Epoch 4/6\n",
      "3065304/3065304 [==============================] - 941s 307us/step - loss: 2.8098 - accuracy: 0.1809\n",
      "Epoch 5/6\n",
      "3065304/3065304 [==============================] - 936s 305us/step - loss: 2.7974 - accuracy: 0.1849\n",
      "Epoch 6/6\n",
      "3065304/3065304 [==============================] - 939s 306us/step - loss: 2.7814 - accuracy: 0.1876\n"
     ]
    },
    {
     "data": {
      "text/plain": [
       "<keras.callbacks.callbacks.History at 0x7fd1449dfb38>"
      ]
     },
     "execution_count": 10,
     "metadata": {
      "tags": []
     },
     "output_type": "execute_result"
    }
   ],
   "source": [
    "filepath_checkpoint='../Data/new_model.hdf5'\n",
    "checkpoint_callback=ModelCheckpoint(filepath=filepath_checkpoint,save_weights_only=True,monitor='loss',mode='min')\n",
    "model.fit(data,output_data,epochs=6,batch_size=512,callbacks=[checkpoint_callback])"
   ]
  },
  {
   "cell_type": "markdown",
   "metadata": {
    "colab_type": "text",
    "id": "nRc9CCJWKPQ9"
   },
   "source": [
    "xi). Use the network with the best weights to generate 1000 characters,using the following text as initialization of the network:"
   ]
  },
  {
   "cell_type": "code",
   "execution_count": 11,
   "metadata": {
    "colab": {
     "base_uri": "https://localhost:8080/",
     "height": 289
    },
    "colab_type": "code",
    "executionInfo": {
     "elapsed": 14515,
     "status": "ok",
     "timestamp": 1595638822413,
     "user": {
      "displayName": "Anuradha D",
      "photoUrl": "",
      "userId": "08863303090119644226"
     },
     "user_tz": 420
    },
    "id": "CfgVAbEbJh41",
    "outputId": "2cc7b910-d8fa-4a17-99b4-aff773098254"
   },
   "outputs": [
    {
     "name": "stdout",
     "output_type": "stream",
     "text": [
      "Model: \"sequential_1\"\n",
      "_________________________________________________________________\n",
      "Layer (type)                 Output Shape              Param #   \n",
      "=================================================================\n",
      "lstm_1 (LSTM)                (None, 256)               264192    \n",
      "_________________________________________________________________\n",
      "dense_1 (Dense)              (None, 38)                9766      \n",
      "=================================================================\n",
      "Total params: 273,958\n",
      "Trainable params: 273,958\n",
      "Non-trainable params: 0\n",
      "_________________________________________________________________\n",
      "THe generated data is - \n",
      " n e hee n e ae   aeeie e e\n",
      "t het hee ne he   aeeie e e h e e e e e e e e e e e e e e e e e e e e e e e e e e e e e e e e e e e e e e e e e e e e e e e e e e e e e e e e e e e e e e e e e e e e e e e e e e e e e e e e e e e e e e e e e e e e e e e e e e e e e e e e e e e e e e e e e e e e e e e e e e e e e e e e e e e e e e e e e e e e e e e e e e e e e e e e e e e e e e e e e e e e e e e e e e e e e e e e e e e e e e e e e e e e e e e e e e e e e e e e e e e e e e e e e e e e e e e e e e e e e e e e e e e e e e e e e e e e e e e e e e e e e e e e e e e e e e e e e e e e e e e e e e e e e e e e e e e e e e e e e e e e e e e e e e e e e e e e e e e e e e e e e e e e e e e e e e e e e e e e e e e e e e e e e e e e e e e e e e e e e e e e e e e e e e e e e e e e e e e e e e e e e e e e e e e e e e e e e e e e e e e e e e e e e e e e e e e e e e e e e e e e e e e e e e e e e e e e e e e e e e e e e e e e e e e e e e e e e e e e e e e e e e e e e e e e e e e e e e e e e e e e e e e e e e e \n"
     ]
    }
   ],
   "source": [
    "filepath='../Data/new_model.hdf5'\n",
    "model.load_weights(filepath)\n",
    "model.compile(loss='categorical_crossentropy', optimizer=tf.keras.optimizers.Adam(learning_rate=0.0001))\n",
    "model.summary()\n",
    "prediction_data='There are those who take mental phenomena naively, just as they would physical phenomena. This school of psychologists tends not to emphasize the object.'\n",
    "\n",
    "punctuation=[\"|\",\"'\",\"/\",\"[\",\"+\",\"(\",\".\",\"&\",\"=\",'!',\"?\",\"{\",\"<\",\"-\",\"*\",\"%\",\"}\",\"_\",\"^\",\",\",\"#\",\"~\",\";\",\"$\",\">\",\":\",\")\",\"]\",'\"','\\\\']\n",
    "data_list=[]\n",
    "for i in prediction_data:\n",
    "    for j in i:\n",
    "        j=j.lower()\n",
    "        if j in punctuation:\n",
    "            continue\n",
    "        else:\n",
    "            data_list.append(j)\n",
    "\n",
    "\n",
    "new_list=[]\n",
    "for char in data_list[-99:]:\n",
    "    new_list.append(scaled_dict[char])\n",
    "\n",
    "generated_text=''\n",
    "for s in range(1,1001,1):\n",
    "    length_pred=len(new_list)\n",
    "    new_data=np.reshape(new_list,(1,length_pred,1))\n",
    "    pred=model.predict(new_data)\n",
    "    val=np.argmax(pred)\n",
    "    character=char_dict[val]\n",
    "    generated_text += character\n",
    "    new_list.append(scaled_dict[character])\n",
    "    new_list=new_list[1:len(new_list)]\n",
    "\n",
    "print(\"THe generated data is - \")  \n",
    "print(generated_text)\n"
   ]
  },
  {
   "cell_type": "code",
   "execution_count": 12,
   "metadata": {
    "colab": {
     "base_uri": "https://localhost:8080/",
     "height": 137
    },
    "colab_type": "code",
    "executionInfo": {
     "elapsed": 867,
     "status": "ok",
     "timestamp": 1595638830206,
     "user": {
      "displayName": "Anuradha D",
      "photoUrl": "",
      "userId": "08863303090119644226"
     },
     "user_tz": 420
    },
    "id": "ElTfJSOjKKrU",
    "outputId": "ee57d5e2-8338-4f4e-93e8-8c9ac7b2adf4"
   },
   "outputs": [
    {
     "data": {
      "application/vnd.google.colaboratory.intrinsic+json": {
       "type": "string"
      },
      "text/plain": [
       "'There are those who take mental phenomena naively, just as they would physical phenomena. This school of psychologists tends not to emphasize the object. n e hee n e ae   aeeie e e\\nt het hee ne he   aeeie e e h e e e e e e e e e e e e e e e e e e e e e e e e e e e e e e e e e e e e e e e e e e e e e e e e e e e e e e e e e e e e e e e e e e e e e e e e e e e e e e e e e e e e e e e e e e e e e e e e e e e e e e e e e e e e e e e e e e e e e e e e e e e e e e e e e e e e e e e e e e e e e e e e e e e e e e e e e e e e e e e e e e e e e e e e e e e e e e e e e e e e e e e e e e e e e e e e e e e e e e e e e e e e e e e e e e e e e e e e e e e e e e e e e e e e e e e e e e e e e e e e e e e e e e e e e e e e e e e e e e e e e e e e e e e e e e e e e e e e e e e e e e e e e e e e e e e e e e e e e e e e e e e e e e e e e e e e e e e e e e e e e e e e e e e e e e e e e e e e e e e e e e e e e e e e e e e e e e e e e e e e e e e e e e e e e e e e e e e e e e e e e e e e e e e e e e e e e e e e e e e e e e e e e e e e e e e e e e e e e e e e e e e e e e e e e e e e e e e e e e e e e e e e e e e e e e e e e e e e e e e e e e e e e e e e e e e '"
      ]
     },
     "execution_count": 12,
     "metadata": {
      "tags": []
     },
     "output_type": "execute_result"
    }
   ],
   "source": [
    "prediction_data+generated_text"
   ]
  }
 ],
 "metadata": {
  "accelerator": "GPU",
  "colab": {
   "authorship_tag": "ABX9TyMltiA+SYNG0JfE6/vkAEC6",
   "mount_file_id": "1BnkGgyN0x-Qh2WXgYM64o2xZTpgZ2TPs",
   "name": "Untitled0.ipynb",
   "provenance": []
  },
  "kernelspec": {
   "display_name": "Python 3",
   "language": "python",
   "name": "python3"
  },
  "language_info": {
   "codemirror_mode": {
    "name": "ipython",
    "version": 3
   },
   "file_extension": ".py",
   "mimetype": "text/x-python",
   "name": "python",
   "nbconvert_exporter": "python",
   "pygments_lexer": "ipython3",
   "version": "3.7.6"
  }
 },
 "nbformat": 4,
 "nbformat_minor": 1
}
